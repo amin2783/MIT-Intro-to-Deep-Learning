{
 "cells": [
  {
   "cell_type": "code",
   "execution_count": 3,
   "metadata": {},
   "outputs": [],
   "source": [
    "import tensorflow as tf\n",
    "\n",
    "\n",
    "class MyDenseLayer(tf.keras.layers.Layer):\n",
    "    def __init__(self, input_dim, output_dim):\n",
    "        super(MyDenseLayer, self).__init__()\n",
    "\n",
    "        #Initialization weights and bias\n",
    "        self.W = self.add_weight([input_dim, output_dim])\n",
    "        self.b = self.add_weight([1, output_dim])\n",
    "\n",
    "\n",
    "    def call(self, inputs):\n",
    "        #Forward propagate the input\n",
    "        z = tf.matmul(inputs, self.W) + self.b\n",
    "\n",
    "        # Feed through a non-linear activation\n",
    "        output = tf.math.sigmoid(z)\n",
    "\n",
    "        return output"
   ]
  },
  {
   "cell_type": "markdown",
   "metadata": {},
   "source": [
    "**Backpropagation**"
   ]
  },
  {
   "cell_type": "code",
   "execution_count": null,
   "metadata": {},
   "outputs": [],
   "source": []
  },
  {
   "cell_type": "markdown",
   "metadata": {},
   "source": [
    "**Gradient Descent**"
   ]
  },
  {
   "cell_type": "code",
   "execution_count": null,
   "metadata": {},
   "outputs": [],
   "source": [
    "weights = tf.Variable([tf.random.normal()])\n",
    "\n",
    "while True:\n",
    "    with tf.GradientTape() as g:\n",
    "        loss = compute_loss(weights)\n",
    "        gradient = g.gradient(loss, weights)\n",
    "    \n",
    "    weights = weights - lr * gradient"
   ]
  },
  {
   "cell_type": "code",
   "execution_count": null,
   "metadata": {},
   "outputs": [],
   "source": [
    "import tensorflow as tf\n",
    "\n",
    "model = tf.keras.Sequential([...])\n",
    "\n",
    "# pick your favorite optimizer\n",
    "optimizer = tf.keras.optimizers.SGD()\n",
    "\n",
    "while True:\n",
    "\n",
    "    # forward pass through the network\n",
    "    prediction = model(x)\n",
    "\n",
    "    with tf.GradientTape() as tape:\n",
    "        # compute the loss\n",
    "        loss = compute_loss(y, prediction)\n",
    "\n",
    "    # update the weights using gradient\n",
    "    grads = tape.gradient(loss, model.trainable_variables)\n",
    "    optimizer.apply_gradients(zip(grads, model.trainable_variables))"
   ]
  }
 ],
 "metadata": {
  "kernelspec": {
   "display_name": "Python 3",
   "language": "python",
   "name": "python3"
  },
  "language_info": {
   "codemirror_mode": {
    "name": "ipython",
    "version": 3
   },
   "file_extension": ".py",
   "mimetype": "text/x-python",
   "name": "python",
   "nbconvert_exporter": "python",
   "pygments_lexer": "ipython3",
   "version": "0.0.0"
  },
  "orig_nbformat": 4
 },
 "nbformat": 4,
 "nbformat_minor": 2
}
