{
 "cells": [
  {
   "cell_type": "code",
   "execution_count": null,
   "metadata": {},
   "outputs": [],
   "source": [
    "import tensorflow as tf"
   ]
  },
  {
   "cell_type": "code",
   "execution_count": null,
   "metadata": {},
   "outputs": [],
   "source": [
    "class MyRNNCell(tf.keras.layers.Layer):\n",
    "    def __init__(self, rnn_units, input_dim, output_dim):\n",
    "        super(MyRNNCell, self).__init__()\n",
    "\n",
    "        # Initialize weight matrices\n",
    "        self.W_xh = self.add_weight([rnn_units, input_dim])\n",
    "        self.W_hh = self.add_weight([rnn_units, rnn_units])\n",
    "        self.W_hy = self.add_weight([output_dim, rnn_units])\n",
    "\n",
    "        # Initialize hidden state to zeros\n",
    "        self.h = tf.zeros([rnn_units, 1])\n",
    "\n",
    "    \n",
    "    def call(self, x):\n",
    "        # Update the hidden state\n",
    "        self.h = tf.math.tanh(self.W_hh * self.h + self.W_xh * x )\n",
    "\n",
    "        # Compute the output\n",
    "        output = self.W_hy * self.h\n",
    "\n",
    "        # Return the current output and hidden state\n",
    "        return output, self.h"
   ]
  }
 ],
 "metadata": {
  "language_info": {
   "name": "python"
  }
 },
 "nbformat": 4,
 "nbformat_minor": 2
}
